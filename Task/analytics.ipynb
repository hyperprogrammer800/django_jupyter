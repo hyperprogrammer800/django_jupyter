{
 "cells": [
  {
   "cell_type": "code",
   "execution_count": 8,
   "id": "2a2f9689-f556-47a2-bfe8-919058d783c3",
   "metadata": {},
   "outputs": [
    {
     "data": {
      "text/plain": [
       "['charges_0.hl7',\n",
       " 'charges_1.hl7',\n",
       " 'charges_2.hl7',\n",
       " 'charges_3.hl7',\n",
       " 'charges_4.hl7']"
      ]
     },
     "execution_count": 8,
     "metadata": {},
     "output_type": "execute_result"
    }
   ],
   "source": [
    "import os \n",
    "os.environ[\"DJANGO_ALLOW_ASYNC_UNSAFE\"] = \"true\"\n",
    "cwd = os.getcwd()\n",
    "files = os.listdir(cwd + \"\\\\HL7\")\n",
    "files"
   ]
  },
  {
   "cell_type": "code",
   "execution_count": 9,
   "id": "7c3604f1-8550-4c01-a174-a9733b91ba56",
   "metadata": {},
   "outputs": [
    {
     "data": {
      "text/plain": [
       "['PID',\n",
       " '1',\n",
       " '',\n",
       " '789101^^^StJohns^MR',\n",
       " '',\n",
       " 'Smith^Jane^B^^Ms.',\n",
       " '',\n",
       " '19920322',\n",
       " 'F',\n",
       " '',\n",
       " '',\n",
       " '456 Oak St^^Gotham^NY^10002^USA',\n",
       " '',\n",
       " '(555)555-7777',\n",
       " '(555)555-7778',\n",
       " '',\n",
       " 'D',\n",
       " 'C',\n",
       " '222-22-2222',\n",
       " '876543^PC^NY',\n",
       " 'English',\n",
       " 'F',\n",
       " 'Caucasian',\n",
       " 'B',\n",
       " 'Dr. Adams^PrimaryCare^MD',\n",
       " '123456',\n",
       " 'P',\n",
       " 'N',\n",
       " '',\n",
       " '',\n",
       " '',\n",
       " '',\n",
       " '',\n",
       " '',\n",
       " '',\n",
       " 'N\\n']"
      ]
     },
     "execution_count": 9,
     "metadata": {},
     "output_type": "execute_result"
    }
   ],
   "source": [
    "parsed_data = []\n",
    "for file in files:\n",
    "    lines = open(cwd + \"\\\\HL7\\\\\" + file, \"r\").readlines()\n",
    "    parsed_data.extend([l.split('|') for l in lines if l[0:3] == \"PID\"])\n",
    "parsed_data[0]"
   ]
  },
  {
   "cell_type": "code",
   "execution_count": 10,
   "id": "fc729b4d-d020-4ac1-bb62-cad5506eec1e",
   "metadata": {},
   "outputs": [
    {
     "data": {
      "text/plain": [
       "<QuerySet [<Patient: Jane Smith>, <Patient: None None>, <Patient: Olivia Brown>, <Patient: Emily White>, <Patient: James Wilson>, <Patient: Sophia Garcia>, <Patient: Daniel Martinez>, <Patient: Chloe Lee>, <Patient: Ethan Kim>, <Patient: Isabella Rodriguez>, <Patient: Lucas Johnson>, <Patient: Mia Thompson>, <Patient: John Doe>, <Patient: Alice Smith>, <Patient: David Brown>, <Patient: Sarah Wilson>, <Patient: Miguel Garcia>, <Patient: Elena Fernandez>, <Patient: Andrew Lee>, <Patient: Sophia Robinson>, '...(remaining elements truncated)...']>"
      ]
     },
     "execution_count": 10,
     "metadata": {},
     "output_type": "execute_result"
    }
   ],
   "source": [
    "from datetime import datetime\n",
    "from Task.models import Patient\n",
    "\n",
    "assigned_data = []\n",
    "for values in parsed_data:\n",
    "    mrn = values[3].split('^^^')[0] if values[3] else None\n",
    "    full_name = values[5].split('^') if values[5] else None\n",
    "    f_name = full_name[1] if full_name[1] else None\n",
    "    l_name = full_name[0] if full_name[0] else None\n",
    "    dob = datetime.strptime(values[7], '%Y%m%d') if values[7] else None\n",
    "    try:\n",
    "        physician = values[24].split('^')[0] if values[24] else None\n",
    "    except IndexError:\n",
    "        physician = None\n",
    "    \n",
    "    phone = values[13] if values[13] else None\n",
    "    address = ', '.join([v for v in values[11].split('^') if v][:-1]) if values[11] else None\n",
    "    sex = values[8] if values[8] else None\n",
    "    db_data = {'first_name' : f_name, 'last_name' : l_name, 'dob': dob, 'mrn' : mrn,'physician' : physician,\n",
    "               'phone' : phone, 'address' : address, 'sex' : sex}\n",
    "    \n",
    "    assigned_data.append(db_data.copy())\n",
    "    patient = Patient()\n",
    "    patient.first_name = f_name\n",
    "    patient.last_name = l_name\n",
    "    patient.dob = dob\n",
    "    patient.mrn = mrn\n",
    "    patient.physician = physician\n",
    "    patient.phone = phone\n",
    "    patient.address = address\n",
    "    patient.sex = sex\n",
    "\n",
    "    patient.save()\n",
    "Patient.objects.all()"
   ]
  },
  {
   "cell_type": "code",
   "execution_count": null,
   "id": "0e69e907-8e5d-4ed1-8799-d806d05ec33f",
   "metadata": {},
   "outputs": [],
   "source": []
  }
 ],
 "metadata": {
  "kernelspec": {
   "display_name": "Django Kernel",
   "language": "python",
   "name": "django_extensions"
  },
  "language_info": {
   "codemirror_mode": {
    "name": "ipython",
    "version": 3
   },
   "file_extension": ".py",
   "mimetype": "text/x-python",
   "name": "python",
   "nbconvert_exporter": "python",
   "pygments_lexer": "ipython3",
   "version": "3.12.4"
  }
 },
 "nbformat": 4,
 "nbformat_minor": 5
}
